{
 "cells": [
  {
   "cell_type": "markdown",
   "metadata": {},
   "source": [
    "# Linear Regression Model"
   ]
  },
  {
   "cell_type": "code",
   "execution_count": 4,
   "metadata": {},
   "outputs": [
    {
     "name": "stdout",
     "output_type": "stream",
     "text": [
      "Intercept: -70.39096045197738\n",
      "Slope: 17.17514124293785\n"
     ]
    }
   ],
   "source": [
    "import numpy as np\n",
    "import pandas as pd\n",
    "from sklearn.linear_model import LinearRegression\n",
    "\n",
    "# Sample data\n",
    "data = {\n",
    "    'Yds/Att': [6.5, 7.1, 7.4, 6.4, 7.4, 8.3, 7.4, 6.1, 5.2, 6.2],\n",
    "    'WinPct': [50, 63, 38, 50, 50, 81, 50, 44, 13, 25]\n",
    "}\n",
    "\n",
    "df = pd.DataFrame(data)\n",
    "\n",
    "# Independent and dependent variables\n",
    "X = df[['Yds/Att']]\n",
    "y = df['WinPct']\n",
    "\n",
    "# Fit the model\n",
    "model = LinearRegression()\n",
    "model.fit(X, y)\n",
    "\n",
    "# Coefficients\n",
    "intercept = model.intercept_\n",
    "slope = model.coef_[0]\n",
    "\n",
    "print(f'Intercept: {intercept}')\n",
    "print(f'Slope: {slope}')\n"
   ]
  },
  {
   "cell_type": "code",
   "execution_count": null,
   "metadata": {},
   "outputs": [],
   "source": []
  },
  {
   "cell_type": "markdown",
   "metadata": {},
   "source": [
    "# LOGISTIC Regression Model"
   ]
  },
  {
   "cell_type": "code",
   "execution_count": 6,
   "metadata": {},
   "outputs": [
    {
     "name": "stdout",
     "output_type": "stream",
     "text": [
      "Intercept: -3.1951097242553326\n",
      "Slope: 0.5321959068298117\n"
     ]
    }
   ],
   "source": [
    "import pandas as pd\n",
    "from sklearn.linear_model import LogisticRegression\n",
    "\n",
    "# Sample data\n",
    "data = {\n",
    "    'Yds/Att': [6.5, 7.1, 7.4, 6.4, 7.4, 8.3, 7.4, 6.1, 5.2, 6.2],\n",
    "    'League': ['Premier', 'Super', 'Premier', 'Super', 'Premier', 'Premier', 'Premier', 'Super', 'Premier', 'Super']\n",
    "}\n",
    "\n",
    "df = pd.DataFrame(data)\n",
    "\n",
    "# Encode the categorical variable 'League'\n",
    "df['League'] = df['League'].apply(lambda x: 1 if x == 'Premier' else 0)\n",
    "\n",
    "# Independent and dependent variables\n",
    "X = df[['Yds/Att']]\n",
    "y = df['League']\n",
    "\n",
    "# Fit the model\n",
    "model = LogisticRegression()\n",
    "model.fit(X, y)\n",
    "\n",
    "# Coefficients\n",
    "intercept = model.intercept_[0]\n",
    "slope = model.coef_[0][0]\n",
    "\n",
    "print(f'Intercept: {intercept}')\n",
    "print(f'Slope: {slope}')\n"
   ]
  },
  {
   "cell_type": "markdown",
   "metadata": {},
   "source": [
    "# Pearson's Correlation Coefficient"
   ]
  },
  {
   "cell_type": "code",
   "execution_count": 3,
   "metadata": {},
   "outputs": [
    {
     "name": "stdout",
     "output_type": "stream",
     "text": [
      "Pearson's Correlation Coefficient: 0.8111218878611136\n"
     ]
    }
   ],
   "source": [
    "import numpy as np\n",
    "\n",
    "# Sample data\n",
    "Yds_Att = [6.5, 7.1, 7.4, 6.4, 7.4, 8.3, 7.4, 6.1, 5.2, 6.2]\n",
    "WinPct = [50, 63, 38, 50, 50, 81, 50, 44, 13, 25]\n",
    "\n",
    "# Calculate Pearson's correlation coefficient\n",
    "correlation_coefficient = np.corrcoef(Yds_Att, WinPct)[0, 1]\n",
    "\n",
    "print(f'Pearson\\'s Correlation Coefficient: {correlation_coefficient}')\n"
   ]
  }
 ],
 "metadata": {
  "kernelspec": {
   "display_name": "Python 3",
   "language": "python",
   "name": "python3"
  },
  "language_info": {
   "codemirror_mode": {
    "name": "ipython",
    "version": 3
   },
   "file_extension": ".py",
   "mimetype": "text/x-python",
   "name": "python",
   "nbconvert_exporter": "python",
   "pygments_lexer": "ipython3",
   "version": "3.12.4"
  }
 },
 "nbformat": 4,
 "nbformat_minor": 2
}
