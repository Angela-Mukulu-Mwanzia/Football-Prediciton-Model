{
 "cells": [
  {
   "cell_type": "markdown",
   "metadata": {},
   "source": [
    "# Linear Regression Model"
   ]
  },
  {
   "cell_type": "code",
   "execution_count": 1,
   "metadata": {
    "vscode": {
     "languageId": "r"
    }
   },
   "outputs": [
    {
     "data": {
      "text/plain": [
       "\n",
       "Call:\n",
       "lm(formula = WinPct ~ Yds_Att)\n",
       "\n",
       "Residuals:\n",
       "    Min      1Q  Median      3Q     Max \n",
       "-18.705  -6.705   1.416   9.426  11.447 \n",
       "\n",
       "Coefficients:\n",
       "            Estimate Std. Error t value Pr(>|t|)   \n",
       "(Intercept)  -70.391     30.001  -2.346   0.0470 * \n",
       "Yds_Att       17.175      4.379   3.923   0.0044 **\n",
       "---\n",
       "Signif. codes:  0 '***' 0.001 '**' 0.01 '*' 0.05 '.' 0.1 ' ' 1\n",
       "\n",
       "Residual standard error: 11.65 on 8 degrees of freedom\n",
       "Multiple R-squared:  0.6579,\tAdjusted R-squared:  0.6152 \n",
       "F-statistic: 15.39 on 1 and 8 DF,  p-value: 0.004403\n"
      ]
     },
     "metadata": {},
     "output_type": "display_data"
    }
   ],
   "source": [
    "# Sample data\n",
    "Yds_Att <- c(6.5, 7.1, 7.4, 6.4, 7.4, 8.3, 7.4, 6.1, 5.2, 6.2)\n",
    "WinPct <- c(50, 63, 38, 50, 50, 81, 50, 44, 13, 25)\n",
    "\n",
    "# Fit the model\n",
    "model <- lm(WinPct ~ Yds_Att)\n",
    "\n",
    "# Coefficients\n",
    "summary(model)\n"
   ]
  },
  {
   "cell_type": "markdown",
   "metadata": {},
   "source": [
    "# Logistic Regression Model"
   ]
  },
  {
   "cell_type": "code",
   "execution_count": 2,
   "metadata": {
    "vscode": {
     "languageId": "r"
    }
   },
   "outputs": [
    {
     "data": {
      "text/plain": [
       "\n",
       "Call:\n",
       "glm(formula = League ~ Yds_Att, family = binomial)\n",
       "\n",
       "Deviance Residuals: \n",
       "    Min       1Q   Median       3Q      Max  \n",
       "-1.4983  -1.1304   0.6697   0.7911   1.6196  \n",
       "\n",
       "Coefficients:\n",
       "            Estimate Std. Error z value Pr(>|z|)\n",
       "(Intercept)  -5.7218     6.0119  -0.952    0.341\n",
       "Yds_Att       0.9085     0.8915   1.019    0.308\n",
       "\n",
       "(Dispersion parameter for binomial family taken to be 1)\n",
       "\n",
       "    Null deviance: 13.460  on 9  degrees of freedom\n",
       "Residual deviance: 12.252  on 8  degrees of freedom\n",
       "AIC: 16.252\n",
       "\n",
       "Number of Fisher Scoring iterations: 4\n"
      ]
     },
     "metadata": {},
     "output_type": "display_data"
    }
   ],
   "source": [
    "# Sample data\n",
    "Yds_Att <- c(6.5, 7.1, 7.4, 6.4, 7.4, 8.3, 7.4, 6.1, 5.2, 6.2)\n",
    "League <- c('Premier', 'Super', 'Premier', 'Super', 'Premier', 'Premier', 'Premier', 'Super', 'Premier', 'Super')\n",
    "\n",
    "# Encode 'League' as binary\n",
    "League <- as.numeric(League == 'Premier')\n",
    "\n",
    "# Fit the model\n",
    "model <- glm(League ~ Yds_Att, family = binomial)\n",
    "\n",
    "# Coefficients\n",
    "summary(model)\n"
   ]
  },
  {
   "cell_type": "markdown",
   "metadata": {},
   "source": [
    "# Pearson's Correlation Coefficient"
   ]
  },
  {
   "cell_type": "code",
   "execution_count": 3,
   "metadata": {
    "vscode": {
     "languageId": "r"
    }
   },
   "outputs": [
    {
     "name": "stdout",
     "output_type": "stream",
     "text": [
      "[1] 0.8111219\n"
     ]
    }
   ],
   "source": [
    "# Sample data\n",
    "Yds_Att <- c(6.5, 7.1, 7.4, 6.4, 7.4, 8.3, 7.4, 6.1, 5.2, 6.2)\n",
    "WinPct <- c(50, 63, 38, 50, 50, 81, 50, 44, 13, 25)\n",
    "\n",
    "# Calculate Pearson's correlation coefficient\n",
    "correlation_coefficient <- cor(Yds_Att, WinPct)\n",
    "\n",
    "print(correlation_coefficient)\n"
   ]
  }
 ],
 "metadata": {
  "kernelspec": {
   "display_name": "R",
   "language": "R",
   "name": "ir"
  },
  "language_info": {
   "codemirror_mode": "r",
   "file_extension": ".r",
   "mimetype": "text/x-r-source",
   "name": "R",
   "pygments_lexer": "r",
   "version": "3.6.1"
  }
 },
 "nbformat": 4,
 "nbformat_minor": 2
}
